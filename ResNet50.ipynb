{
 "cells": [
  {
   "cell_type": "code",
   "execution_count": 1,
   "id": "836f26ce-a2dd-48a2-9266-f3417dc00f1a",
   "metadata": {},
   "outputs": [
    {
     "name": "stdout",
     "output_type": "stream",
     "text": [
      "Found 5216 images belonging to 2 classes.\n",
      "Found 16 images belonging to 2 classes.\n",
      "Epoch 1/60\n"
     ]
    },
    {
     "name": "stderr",
     "output_type": "stream",
     "text": [
      "C:\\Users\\Apkr\\anaconda3\\Lib\\site-packages\\keras\\src\\trainers\\data_adapters\\py_dataset_adapter.py:122: UserWarning: Your `PyDataset` class should call `super().__init__(**kwargs)` in its constructor. `**kwargs` can include `workers`, `use_multiprocessing`, `max_queue_size`. Do not pass these arguments to `fit()`, as they will be ignored.\n",
      "  self._warn_if_super_not_called()\n"
     ]
    },
    {
     "name": "stdout",
     "output_type": "stream",
     "text": [
      "\u001b[1m289/289\u001b[0m \u001b[32m━━━━━━━━━━━━━━━━━━━━\u001b[0m\u001b[37m\u001b[0m \u001b[1m272s\u001b[0m 850ms/step - accuracy: 0.6912 - loss: 1.2804 - val_accuracy: 0.5000 - val_loss: 0.6834\n",
      "Epoch 2/60\n",
      "\u001b[1m  1/289\u001b[0m \u001b[37m━━━━━━━━━━━━━━━━━━━━\u001b[0m \u001b[1m2:29\u001b[0m 518ms/step - accuracy: 0.4444 - loss: 0.6584"
     ]
    },
    {
     "name": "stderr",
     "output_type": "stream",
     "text": [
      "C:\\Users\\Apkr\\anaconda3\\Lib\\contextlib.py:155: UserWarning: Your input ran out of data; interrupting training. Make sure that your dataset or generator can generate at least `steps_per_epoch * epochs` batches. You may need to use the `.repeat()` function when building your dataset.\n",
      "  self.gen.throw(typ, value, traceback)\n"
     ]
    },
    {
     "name": "stdout",
     "output_type": "stream",
     "text": [
      "\u001b[1m289/289\u001b[0m \u001b[32m━━━━━━━━━━━━━━━━━━━━\u001b[0m\u001b[37m\u001b[0m \u001b[1m1s\u001b[0m 3ms/step - accuracy: 0.4444 - loss: 0.3303 - val_accuracy: 0.5000 - val_loss: 0.6981\n",
      "Epoch 3/60\n",
      "\u001b[1m289/289\u001b[0m \u001b[32m━━━━━━━━━━━━━━━━━━━━\u001b[0m\u001b[37m\u001b[0m \u001b[1m244s\u001b[0m 827ms/step - accuracy: 0.7263 - loss: 0.5338 - val_accuracy: 0.5000 - val_loss: 0.6760\n",
      "Epoch 4/60\n",
      "\u001b[1m289/289\u001b[0m \u001b[32m━━━━━━━━━━━━━━━━━━━━\u001b[0m\u001b[37m\u001b[0m \u001b[1m1s\u001b[0m 2ms/step - accuracy: 0.6667 - loss: 0.2870 - val_accuracy: 0.5000 - val_loss: 0.6670\n",
      "Epoch 5/60\n",
      "\u001b[1m289/289\u001b[0m \u001b[32m━━━━━━━━━━━━━━━━━━━━\u001b[0m\u001b[37m\u001b[0m \u001b[1m245s\u001b[0m 830ms/step - accuracy: 0.7300 - loss: 0.5112 - val_accuracy: 0.5000 - val_loss: 0.7274\n",
      "Epoch 6/60\n",
      "\u001b[1m289/289\u001b[0m \u001b[32m━━━━━━━━━━━━━━━━━━━━\u001b[0m\u001b[37m\u001b[0m \u001b[1m1s\u001b[0m 3ms/step - accuracy: 0.7222 - loss: 0.2327 - val_accuracy: 0.5000 - val_loss: 0.7072\n",
      "Epoch 7/60\n",
      "\u001b[1m289/289\u001b[0m \u001b[32m━━━━━━━━━━━━━━━━━━━━\u001b[0m\u001b[37m\u001b[0m \u001b[1m241s\u001b[0m 819ms/step - accuracy: 0.7419 - loss: 0.4506 - val_accuracy: 0.5000 - val_loss: 0.8970\n",
      "Epoch 8/60\n",
      "\u001b[1m289/289\u001b[0m \u001b[32m━━━━━━━━━━━━━━━━━━━━\u001b[0m\u001b[37m\u001b[0m \u001b[1m1s\u001b[0m 2ms/step - accuracy: 0.7778 - loss: 0.2612 - val_accuracy: 0.5000 - val_loss: 0.9069\n",
      "Epoch 9/60\n",
      "\u001b[1m289/289\u001b[0m \u001b[32m━━━━━━━━━━━━━━━━━━━━\u001b[0m\u001b[37m\u001b[0m \u001b[1m237s\u001b[0m 805ms/step - accuracy: 0.7340 - loss: 0.5000 - val_accuracy: 0.5000 - val_loss: 0.7229\n",
      "Epoch 10/60\n",
      "\u001b[1m289/289\u001b[0m \u001b[32m━━━━━━━━━━━━━━━━━━━━\u001b[0m\u001b[37m\u001b[0m \u001b[1m1s\u001b[0m 3ms/step - accuracy: 0.7778 - loss: 0.2428 - val_accuracy: 0.5000 - val_loss: 0.7202\n",
      "Epoch 11/60\n",
      "\u001b[1m289/289\u001b[0m \u001b[32m━━━━━━━━━━━━━━━━━━━━\u001b[0m\u001b[37m\u001b[0m \u001b[1m238s\u001b[0m 807ms/step - accuracy: 0.7414 - loss: 0.5039 - val_accuracy: 0.5000 - val_loss: 0.8462\n",
      "Epoch 12/60\n",
      "\u001b[1m289/289\u001b[0m \u001b[32m━━━━━━━━━━━━━━━━━━━━\u001b[0m\u001b[37m\u001b[0m \u001b[1m1s\u001b[0m 3ms/step - accuracy: 0.7778 - loss: 0.2433 - val_accuracy: 0.5000 - val_loss: 0.8052\n",
      "Epoch 13/60\n",
      "\u001b[1m289/289\u001b[0m \u001b[32m━━━━━━━━━━━━━━━━━━━━\u001b[0m\u001b[37m\u001b[0m \u001b[1m242s\u001b[0m 820ms/step - accuracy: 0.7426 - loss: 0.4976 - val_accuracy: 0.5000 - val_loss: 0.8775\n",
      "Epoch 14/60\n",
      "\u001b[1m289/289\u001b[0m \u001b[32m━━━━━━━━━━━━━━━━━━━━\u001b[0m\u001b[37m\u001b[0m \u001b[1m1s\u001b[0m 3ms/step - accuracy: 0.5556 - loss: 0.2981 - val_accuracy: 0.5000 - val_loss: 0.8504\n",
      "Epoch 15/60\n",
      "\u001b[1m289/289\u001b[0m \u001b[32m━━━━━━━━━━━━━━━━━━━━\u001b[0m\u001b[37m\u001b[0m \u001b[1m247s\u001b[0m 837ms/step - accuracy: 0.7376 - loss: 0.4934 - val_accuracy: 0.5000 - val_loss: 0.7542\n",
      "Epoch 16/60\n",
      "\u001b[1m289/289\u001b[0m \u001b[32m━━━━━━━━━━━━━━━━━━━━\u001b[0m\u001b[37m\u001b[0m \u001b[1m1s\u001b[0m 3ms/step - accuracy: 0.8889 - loss: 0.1861 - val_accuracy: 0.5000 - val_loss: 0.7396\n",
      "Epoch 17/60\n",
      "\u001b[1m289/289\u001b[0m \u001b[32m━━━━━━━━━━━━━━━━━━━━\u001b[0m\u001b[37m\u001b[0m \u001b[1m238s\u001b[0m 812ms/step - accuracy: 0.7458 - loss: 0.4851 - val_accuracy: 0.5000 - val_loss: 0.8379\n",
      "Epoch 18/60\n",
      "\u001b[1m289/289\u001b[0m \u001b[32m━━━━━━━━━━━━━━━━━━━━\u001b[0m\u001b[37m\u001b[0m \u001b[1m1s\u001b[0m 3ms/step - accuracy: 0.5556 - loss: 0.3478 - val_accuracy: 0.5000 - val_loss: 0.8252\n",
      "Epoch 19/60\n",
      "\u001b[1m289/289\u001b[0m \u001b[32m━━━━━━━━━━━━━━━━━━━━\u001b[0m\u001b[37m\u001b[0m \u001b[1m238s\u001b[0m 809ms/step - accuracy: 0.7415 - loss: 0.4874 - val_accuracy: 0.5000 - val_loss: 0.7692\n",
      "Epoch 20/60\n",
      "\u001b[1m289/289\u001b[0m \u001b[32m━━━━━━━━━━━━━━━━━━━━\u001b[0m\u001b[37m\u001b[0m \u001b[1m1s\u001b[0m 3ms/step - accuracy: 0.5556 - loss: 0.2804 - val_accuracy: 0.5000 - val_loss: 0.7942\n",
      "Epoch 21/60\n",
      "\u001b[1m289/289\u001b[0m \u001b[32m━━━━━━━━━━━━━━━━━━━━\u001b[0m\u001b[37m\u001b[0m \u001b[1m236s\u001b[0m 801ms/step - accuracy: 0.7386 - loss: 0.4952 - val_accuracy: 0.5000 - val_loss: 0.7609\n",
      "Epoch 22/60\n",
      "\u001b[1m289/289\u001b[0m \u001b[32m━━━━━━━━━━━━━━━━━━━━\u001b[0m\u001b[37m\u001b[0m \u001b[1m1s\u001b[0m 3ms/step - accuracy: 0.6111 - loss: 0.2986 - val_accuracy: 0.5000 - val_loss: 0.7198\n",
      "Epoch 23/60\n",
      "\u001b[1m289/289\u001b[0m \u001b[32m━━━━━━━━━━━━━━━━━━━━\u001b[0m\u001b[37m\u001b[0m \u001b[1m236s\u001b[0m 802ms/step - accuracy: 0.7509 - loss: 0.4734 - val_accuracy: 0.5000 - val_loss: 0.9599\n",
      "Epoch 24/60\n",
      "\u001b[1m289/289\u001b[0m \u001b[32m━━━━━━━━━━━━━━━━━━━━\u001b[0m\u001b[37m\u001b[0m \u001b[1m1s\u001b[0m 2ms/step - accuracy: 0.5000 - loss: 0.3409 - val_accuracy: 0.5000 - val_loss: 0.9254\n",
      "Epoch 25/60\n",
      "\u001b[1m289/289\u001b[0m \u001b[32m━━━━━━━━━━━━━━━━━━━━\u001b[0m\u001b[37m\u001b[0m \u001b[1m241s\u001b[0m 815ms/step - accuracy: 0.7341 - loss: 0.4918 - val_accuracy: 0.5000 - val_loss: 0.7342\n",
      "Epoch 26/60\n",
      "\u001b[1m289/289\u001b[0m \u001b[32m━━━━━━━━━━━━━━━━━━━━\u001b[0m\u001b[37m\u001b[0m \u001b[1m1s\u001b[0m 2ms/step - accuracy: 0.6111 - loss: 0.3362 - val_accuracy: 0.5000 - val_loss: 0.7343\n",
      "Epoch 27/60\n",
      "\u001b[1m289/289\u001b[0m \u001b[32m━━━━━━━━━━━━━━━━━━━━\u001b[0m\u001b[37m\u001b[0m \u001b[1m243s\u001b[0m 827ms/step - accuracy: 0.7440 - loss: 0.5880 - val_accuracy: 0.5000 - val_loss: 0.7687\n",
      "Epoch 28/60\n",
      "\u001b[1m289/289\u001b[0m \u001b[32m━━━━━━━━━━━━━━━━━━━━\u001b[0m\u001b[37m\u001b[0m \u001b[1m1s\u001b[0m 3ms/step - accuracy: 0.7222 - loss: 0.2979 - val_accuracy: 0.5000 - val_loss: 0.7688\n",
      "Epoch 29/60\n",
      "\u001b[1m289/289\u001b[0m \u001b[32m━━━━━━━━━━━━━━━━━━━━\u001b[0m\u001b[37m\u001b[0m \u001b[1m244s\u001b[0m 826ms/step - accuracy: 0.7358 - loss: 0.5816 - val_accuracy: 0.5000 - val_loss: 0.7920\n",
      "Epoch 30/60\n",
      "\u001b[1m289/289\u001b[0m \u001b[32m━━━━━━━━━━━━━━━━━━━━\u001b[0m\u001b[37m\u001b[0m \u001b[1m1s\u001b[0m 3ms/step - accuracy: 0.8333 - loss: 0.2462 - val_accuracy: 0.5000 - val_loss: 0.7921\n",
      "Epoch 31/60\n",
      "\u001b[1m289/289\u001b[0m \u001b[32m━━━━━━━━━━━━━━━━━━━━\u001b[0m\u001b[37m\u001b[0m \u001b[1m243s\u001b[0m 826ms/step - accuracy: 0.7468 - loss: 0.5680 - val_accuracy: 0.5000 - val_loss: 0.8068\n",
      "Epoch 32/60\n",
      "\u001b[1m289/289\u001b[0m \u001b[32m━━━━━━━━━━━━━━━━━━━━\u001b[0m\u001b[37m\u001b[0m \u001b[1m1s\u001b[0m 3ms/step - accuracy: 0.5556 - loss: 0.3777 - val_accuracy: 0.5000 - val_loss: 0.8067\n",
      "Epoch 33/60\n",
      "\u001b[1m289/289\u001b[0m \u001b[32m━━━━━━━━━━━━━━━━━━━━\u001b[0m\u001b[37m\u001b[0m \u001b[1m244s\u001b[0m 828ms/step - accuracy: 0.7410 - loss: 0.5726 - val_accuracy: 0.5000 - val_loss: 0.8146\n",
      "Epoch 34/60\n",
      "\u001b[1m289/289\u001b[0m \u001b[32m━━━━━━━━━━━━━━━━━━━━\u001b[0m\u001b[37m\u001b[0m \u001b[1m1s\u001b[0m 3ms/step - accuracy: 0.7778 - loss: 0.2685 - val_accuracy: 0.5000 - val_loss: 0.8146\n",
      "Epoch 35/60\n",
      "\u001b[1m289/289\u001b[0m \u001b[32m━━━━━━━━━━━━━━━━━━━━\u001b[0m\u001b[37m\u001b[0m \u001b[1m249s\u001b[0m 846ms/step - accuracy: 0.7487 - loss: 0.5644 - val_accuracy: 0.5000 - val_loss: 0.8192\n",
      "Epoch 36/60\n",
      "\u001b[1m289/289\u001b[0m \u001b[32m━━━━━━━━━━━━━━━━━━━━\u001b[0m\u001b[37m\u001b[0m \u001b[1m1s\u001b[0m 2ms/step - accuracy: 0.8333 - loss: 0.2395 - val_accuracy: 0.5000 - val_loss: 0.8192\n",
      "Epoch 37/60\n",
      "\u001b[1m289/289\u001b[0m \u001b[32m━━━━━━━━━━━━━━━━━━━━\u001b[0m\u001b[37m\u001b[0m \u001b[1m245s\u001b[0m 830ms/step - accuracy: 0.7511 - loss: 0.5617 - val_accuracy: 0.5000 - val_loss: 0.8229\n",
      "Epoch 38/60\n",
      "\u001b[1m289/289\u001b[0m \u001b[32m━━━━━━━━━━━━━━━━━━━━\u001b[0m\u001b[37m\u001b[0m \u001b[1m1s\u001b[0m 3ms/step - accuracy: 0.7778 - loss: 0.2678 - val_accuracy: 0.5000 - val_loss: 0.8229\n",
      "Epoch 39/60\n",
      "\u001b[1m289/289\u001b[0m \u001b[32m━━━━━━━━━━━━━━━━━━━━\u001b[0m\u001b[37m\u001b[0m \u001b[1m243s\u001b[0m 824ms/step - accuracy: 0.7455 - loss: 0.5674 - val_accuracy: 0.5000 - val_loss: 0.8238\n",
      "Epoch 40/60\n",
      "\u001b[1m289/289\u001b[0m \u001b[32m━━━━━━━━━━━━━━━━━━━━\u001b[0m\u001b[37m\u001b[0m \u001b[1m1s\u001b[0m 3ms/step - accuracy: 0.8333 - loss: 0.2386 - val_accuracy: 0.5000 - val_loss: 0.8239\n",
      "Epoch 41/60\n",
      "\u001b[1m289/289\u001b[0m \u001b[32m━━━━━━━━━━━━━━━━━━━━\u001b[0m\u001b[37m\u001b[0m \u001b[1m239s\u001b[0m 810ms/step - accuracy: 0.7380 - loss: 0.5749 - val_accuracy: 0.5000 - val_loss: 0.8257\n",
      "Epoch 42/60\n",
      "\u001b[1m289/289\u001b[0m \u001b[32m━━━━━━━━━━━━━━━━━━━━\u001b[0m\u001b[37m\u001b[0m \u001b[1m1s\u001b[0m 3ms/step - accuracy: 0.7778 - loss: 0.2676 - val_accuracy: 0.5000 - val_loss: 0.8257\n",
      "Epoch 43/60\n",
      "\u001b[1m289/289\u001b[0m \u001b[32m━━━━━━━━━━━━━━━━━━━━\u001b[0m\u001b[37m\u001b[0m \u001b[1m241s\u001b[0m 815ms/step - accuracy: 0.7359 - loss: 0.5774 - val_accuracy: 0.5000 - val_loss: 0.8275\n",
      "Epoch 44/60\n",
      "\u001b[1m289/289\u001b[0m \u001b[32m━━━━━━━━━━━━━━━━━━━━\u001b[0m\u001b[37m\u001b[0m \u001b[1m1s\u001b[0m 3ms/step - accuracy: 0.7222 - loss: 0.2970 - val_accuracy: 0.5000 - val_loss: 0.8274\n",
      "Epoch 45/60\n",
      "\u001b[1m289/289\u001b[0m \u001b[32m━━━━━━━━━━━━━━━━━━━━\u001b[0m\u001b[37m\u001b[0m \u001b[1m240s\u001b[0m 815ms/step - accuracy: 0.7489 - loss: 0.5643 - val_accuracy: 0.5000 - val_loss: 0.8276\n",
      "Epoch 46/60\n",
      "\u001b[1m289/289\u001b[0m \u001b[32m━━━━━━━━━━━━━━━━━━━━\u001b[0m\u001b[37m\u001b[0m \u001b[1m1s\u001b[0m 3ms/step - accuracy: 0.6667 - loss: 0.3266 - val_accuracy: 0.5000 - val_loss: 0.8276\n",
      "Epoch 47/60\n",
      "\u001b[1m289/289\u001b[0m \u001b[32m━━━━━━━━━━━━━━━━━━━━\u001b[0m\u001b[37m\u001b[0m \u001b[1m250s\u001b[0m 847ms/step - accuracy: 0.7466 - loss: 0.5661 - val_accuracy: 0.5000 - val_loss: 0.8264\n",
      "Epoch 48/60\n",
      "\u001b[1m289/289\u001b[0m \u001b[32m━━━━━━━━━━━━━━━━━━━━\u001b[0m\u001b[37m\u001b[0m \u001b[1m1s\u001b[0m 3ms/step - accuracy: 0.8889 - loss: 0.2087 - val_accuracy: 0.5000 - val_loss: 0.8265\n",
      "Epoch 49/60\n",
      "\u001b[1m289/289\u001b[0m \u001b[32m━━━━━━━━━━━━━━━━━━━━\u001b[0m\u001b[37m\u001b[0m \u001b[1m232s\u001b[0m 786ms/step - accuracy: 0.7382 - loss: 0.5752 - val_accuracy: 0.5000 - val_loss: 0.8275\n",
      "Epoch 50/60\n",
      "\u001b[1m289/289\u001b[0m \u001b[32m━━━━━━━━━━━━━━━━━━━━\u001b[0m\u001b[37m\u001b[0m \u001b[1m1s\u001b[0m 3ms/step - accuracy: 0.7778 - loss: 0.2674 - val_accuracy: 0.5000 - val_loss: 0.8275\n",
      "Epoch 51/60\n",
      "\u001b[1m289/289\u001b[0m \u001b[32m━━━━━━━━━━━━━━━━━━━━\u001b[0m\u001b[37m\u001b[0m \u001b[1m324s\u001b[0m 1s/step - accuracy: 0.7464 - loss: 0.5663 - val_accuracy: 0.5000 - val_loss: 0.8277\n",
      "Epoch 52/60\n",
      "\u001b[1m289/289\u001b[0m \u001b[32m━━━━━━━━━━━━━━━━━━━━\u001b[0m\u001b[37m\u001b[0m \u001b[1m1s\u001b[0m 2ms/step - accuracy: 0.8333 - loss: 0.2378 - val_accuracy: 0.5000 - val_loss: 0.8277\n",
      "Epoch 53/60\n",
      "\u001b[1m289/289\u001b[0m \u001b[32m━━━━━━━━━━━━━━━━━━━━\u001b[0m\u001b[37m\u001b[0m \u001b[1m280s\u001b[0m 962ms/step - accuracy: 0.7488 - loss: 0.5638 - val_accuracy: 0.5000 - val_loss: 0.8279\n",
      "Epoch 54/60\n",
      "\u001b[1m289/289\u001b[0m \u001b[32m━━━━━━━━━━━━━━━━━━━━\u001b[0m\u001b[37m\u001b[0m \u001b[1m2s\u001b[0m 4ms/step - accuracy: 0.5556 - loss: 0.3858 - val_accuracy: 0.5000 - val_loss: 0.8279\n",
      "Epoch 55/60\n",
      "\u001b[1m289/289\u001b[0m \u001b[32m━━━━━━━━━━━━━━━━━━━━\u001b[0m\u001b[37m\u001b[0m \u001b[1m180s\u001b[0m 605ms/step - accuracy: 0.7351 - loss: 0.5782 - val_accuracy: 0.5000 - val_loss: 0.8277\n",
      "Epoch 56/60\n",
      "\u001b[1m289/289\u001b[0m \u001b[32m━━━━━━━━━━━━━━━━━━━━\u001b[0m\u001b[37m\u001b[0m \u001b[1m1s\u001b[0m 2ms/step - accuracy: 0.6667 - loss: 0.3266 - val_accuracy: 0.5000 - val_loss: 0.8278\n",
      "Epoch 57/60\n",
      "\u001b[1m289/289\u001b[0m \u001b[32m━━━━━━━━━━━━━━━━━━━━\u001b[0m\u001b[37m\u001b[0m \u001b[1m144s\u001b[0m 491ms/step - accuracy: 0.7404 - loss: 0.5728 - val_accuracy: 0.5000 - val_loss: 0.8283\n",
      "Epoch 58/60\n",
      "\u001b[1m289/289\u001b[0m \u001b[32m━━━━━━━━━━━━━━━━━━━━\u001b[0m\u001b[37m\u001b[0m \u001b[1m1s\u001b[0m 2ms/step - accuracy: 0.8333 - loss: 0.2377 - val_accuracy: 0.5000 - val_loss: 0.8283\n",
      "Epoch 59/60\n",
      "\u001b[1m289/289\u001b[0m \u001b[32m━━━━━━━━━━━━━━━━━━━━\u001b[0m\u001b[37m\u001b[0m \u001b[1m149s\u001b[0m 508ms/step - accuracy: 0.7295 - loss: 0.5841 - val_accuracy: 0.5000 - val_loss: 0.8282\n",
      "Epoch 60/60\n",
      "\u001b[1m289/289\u001b[0m \u001b[32m━━━━━━━━━━━━━━━━━━━━\u001b[0m\u001b[37m\u001b[0m \u001b[1m1s\u001b[0m 2ms/step - accuracy: 0.9444 - loss: 0.1785 - val_accuracy: 0.5000 - val_loss: 0.8283\n"
     ]
    },
    {
     "data": {
      "text/plain": [
       "<keras.src.callbacks.history.History at 0x2953be664d0>"
      ]
     },
     "execution_count": 1,
     "metadata": {},
     "output_type": "execute_result"
    }
   ],
   "source": [
    "import tensorflow as tf\n",
    "from tensorflow.keras.layers import Dense, Dropout, Flatten\n",
    "from tensorflow.keras.models import Sequential\n",
    "from tensorflow.keras.losses import BinaryCrossentropy\n",
    "from tensorflow.keras.optimizers import Adam\n",
    "from tensorflow.keras.applications import VGG16, ResNet50, DenseNet121\n",
    "from tensorflow.keras.preprocessing.image import ImageDataGenerator\n",
    "\n",
    "# Assuming your data is organized in two folders: train and validation\n",
    "train_data_dir = 'chest_xray/train'\n",
    "validation_data_dir = 'chest_xray/val'\n",
    "img_width, img_height = 150, 150  # Adjust dimensions as needed\n",
    "batch_size = 18\n",
    "epochs = 60\n",
    "\n",
    "# Choose a CNN architecture\n",
    "\n",
    "# ResNet50\n",
    "base_model = ResNet50(weights='imagenet', include_top=False, input_shape=(img_width, img_height, 3))\n",
    "\n",
    "# Freeze convolutional layers\n",
    "for layer in base_model.layers:\n",
    "    layer.trainable = False\n",
    "\n",
    "# Add classification layers on top\n",
    "model = Sequential([\n",
    "    base_model,\n",
    "    Flatten(),\n",
    "    Dense(512, activation='relu'),\n",
    "    Dropout(0.5),\n",
    "    Dense(1, activation='sigmoid')\n",
    "])\n",
    "\n",
    "# Compile the model\n",
    "model.compile(optimizer=Adam(),\n",
    "              loss=BinaryCrossentropy(),\n",
    "              metrics=['accuracy'])\n",
    "\n",
    "# Data augmentation and normalization\n",
    "train_datagen = ImageDataGenerator(\n",
    "    rescale=1. / 255,\n",
    "    shear_range=0.2,\n",
    "    zoom_range=0.2,\n",
    "    horizontal_flip=True)\n",
    "\n",
    "test_datagen = ImageDataGenerator(rescale=1. / 255)\n",
    "\n",
    "train_generator = train_datagen.flow_from_directory(\n",
    "    train_data_dir,\n",
    "    target_size=(img_width, img_height),\n",
    "    batch_size=batch_size,\n",
    "    class_mode='binary')\n",
    "\n",
    "validation_generator = test_datagen.flow_from_directory(\n",
    "    validation_data_dir,\n",
    "    target_size=(img_width, img_height),\n",
    "    batch_size=batch_size,\n",
    "    class_mode='binary')\n",
    "\n",
    "# Train the model\n",
    "model.fit(\n",
    "    train_generator,\n",
    "    steps_per_epoch=train_generator.samples // batch_size,\n",
    "    epochs=epochs,\n",
    "    validation_data=validation_generator,\n",
    "    validation_steps=validation_generator.samples // batch_size)\n"
   ]
  },
  {
   "cell_type": "code",
   "execution_count": 8,
   "id": "01ea94e1-7d14-46d0-84cb-fc0897429ff0",
   "metadata": {},
   "outputs": [
    {
     "name": "stdout",
     "output_type": "stream",
     "text": [
      "\u001b[1m290/290\u001b[0m \u001b[32m━━━━━━━━━━━━━━━━━━━━\u001b[0m\u001b[37m\u001b[0m \u001b[1m205s\u001b[0m 705ms/step - accuracy: 0.7484 - loss: 0.5642\n",
      "Test Accuracy: 0.7429064512252808\n"
     ]
    }
   ],
   "source": [
    "# Evaluate the model on the test set\n",
    "test_loss, test_accuracy = model.evaluate(test_generator)\n",
    "print(\"Test Accuracy:\", test_accuracy)"
   ]
  },
  {
   "cell_type": "code",
   "execution_count": 9,
   "id": "f537e113-6ce6-4d34-82f2-c578fba5d762",
   "metadata": {},
   "outputs": [
    {
     "name": "stdout",
     "output_type": "stream",
     "text": [
      "\u001b[1m290/290\u001b[0m \u001b[32m━━━━━━━━━━━━━━━━━━━━\u001b[0m\u001b[37m\u001b[0m \u001b[1m177s\u001b[0m 587ms/step\n",
      "Classification Report:\n",
      "               precision    recall  f1-score   support\n",
      "\n",
      "           0       0.00      0.00      0.00      1341\n",
      "           1       0.74      1.00      0.85      3875\n",
      "\n",
      "    accuracy                           0.74      5216\n",
      "   macro avg       0.37      0.50      0.43      5216\n",
      "weighted avg       0.55      0.74      0.63      5216\n",
      "\n"
     ]
    },
    {
     "name": "stderr",
     "output_type": "stream",
     "text": [
      "C:\\Users\\Apkr\\anaconda3\\Lib\\site-packages\\sklearn\\metrics\\_classification.py:1344: UndefinedMetricWarning: Precision and F-score are ill-defined and being set to 0.0 in labels with no predicted samples. Use `zero_division` parameter to control this behavior.\n",
      "  _warn_prf(average, modifier, msg_start, len(result))\n",
      "C:\\Users\\Apkr\\anaconda3\\Lib\\site-packages\\sklearn\\metrics\\_classification.py:1344: UndefinedMetricWarning: Precision and F-score are ill-defined and being set to 0.0 in labels with no predicted samples. Use `zero_division` parameter to control this behavior.\n",
      "  _warn_prf(average, modifier, msg_start, len(result))\n",
      "C:\\Users\\Apkr\\anaconda3\\Lib\\site-packages\\sklearn\\metrics\\_classification.py:1344: UndefinedMetricWarning: Precision and F-score are ill-defined and being set to 0.0 in labels with no predicted samples. Use `zero_division` parameter to control this behavior.\n",
      "  _warn_prf(average, modifier, msg_start, len(result))\n"
     ]
    }
   ],
   "source": [
    "from sklearn.metrics import classification_report\n",
    "\n",
    "# Get the model predictions for the test set\n",
    "y_pred = model.predict(test_generator)\n",
    "y_pred_binary = (y_pred > 0.5).astype(int)  # Convert probabilities to binary predictions\n",
    "\n",
    "# Get the true labels for the test set\n",
    "y_true = test_generator.classes\n",
    "\n",
    "# Calculate classification report\n",
    "report = classification_report(y_true, y_pred_binary)\n",
    "\n",
    "# Print the classification report\n",
    "print(\"Classification Report:\\n\", report)\n"
   ]
  },
  {
   "cell_type": "code",
   "execution_count": 2,
   "id": "5463797c-0860-44e1-be0f-a95e08fd8be2",
   "metadata": {},
   "outputs": [
    {
     "name": "stdout",
     "output_type": "stream",
     "text": [
      "      Metric     Score\n",
      "0   Accuracy  0.510000\n",
      "1  Precision  0.500000\n",
      "2     Recall  0.591837\n",
      "3   F1-Score  0.542056\n"
     ]
    },
    {
     "data": {
      "image/png": "[encoded data removed]",
      "text/plain": [
       "<Figure size 800x600 with 1 Axes>"
      ]
     },
     "metadata": {},
     "output_type": "display_data"
    }
   ],
   "source": [
    "\n",
    "\n",
    "import numpy as np\n",
    "import pandas as pd\n",
    "import matplotlib.pyplot as plt\n",
    "from sklearn.metrics import accuracy_score, precision_score, recall_score, f1_score\n",
    "\n",
    "# Assuming you have obtained predictions and true labels from your model\n",
    "# Replace pred_labels and true_labels with your actual prediction and true labels\n",
    "pred_labels = np.random.randint(0, 2, size=(100,))\n",
    "true_labels = np.random.randint(0, 2, size=(100,))\n",
    "\n",
    "# Calculate evaluation metrics\n",
    "accuracy = accuracy_score(true_labels, pred_labels)\n",
    "precision = precision_score(true_labels, pred_labels)\n",
    "recall = recall_score(true_labels, pred_labels)\n",
    "f1 = f1_score(true_labels, pred_labels)\n",
    "\n",
    "# Create a DataFrame to store evaluation metrics\n",
    "metrics_df = pd.DataFrame({\n",
    "    'Metric': ['Accuracy', 'Precision', 'Recall', 'F1-Score'],\n",
    "    'Score': [accuracy, precision, recall, f1]\n",
    "})\n",
    "\n",
    "# Print the metrics table\n",
    "print(metrics_df)\n",
    "\n",
    "# Plot the metrics as a bar chart\n",
    "plt.figure(figsize=(8, 6))\n",
    "plt.bar(metrics_df['Metric'], metrics_df['Score'], color=['blue', 'green', 'orange', 'red'])\n",
    "plt.title('Model Evaluation Metrics')\n",
    "plt.xlabel('Metric')\n",
    "plt.ylabel('Score')\n",
    "plt.ylim(0, 1)  # Set y-axis limits to [0, 1] for better visualization\n",
    "plt.show()\n",
    "\n"
   ]
  },
  {
   "cell_type": "code",
   "execution_count": 3,
   "id": "1c8aea26-fdbe-44c3-a0ae-6cc4ccb91318",
   "metadata": {},
   "outputs": [
    {
     "name": "stdout",
     "output_type": "stream",
     "text": [
      "Found 5216 images belonging to 2 classes.\n"
     ]
    },
    {
     "name": "stderr",
     "output_type": "stream",
     "text": [
      "C:\\Users\\Apkr\\anaconda3\\Lib\\site-packages\\keras\\src\\trainers\\data_adapters\\py_dataset_adapter.py:122: UserWarning: Your `PyDataset` class should call `super().__init__(**kwargs)` in its constructor. `**kwargs` can include `workers`, `use_multiprocessing`, `max_queue_size`. Do not pass these arguments to `fit()`, as they will be ignored.\n",
      "  self._warn_if_super_not_called()\n"
     ]
    },
    {
     "name": "stdout",
     "output_type": "stream",
     "text": [
      "\u001b[1m290/290\u001b[0m \u001b[32m━━━━━━━━━━━━━━━━━━━━\u001b[0m\u001b[37m\u001b[0m \u001b[1m99s\u001b[0m 340ms/step - accuracy: 0.7344 - loss: 0.5790\n",
      "Test Accuracy: 0.7429064512252808\n"
     ]
    }
   ],
   "source": [
    "# Evaluate the model\n",
    "test_datagen = ImageDataGenerator(rescale=1./255)\n",
    "\n",
    "test_generator = test_datagen.flow_from_directory(\n",
    "    train_data_dir,\n",
    "    target_size=(img_width, img_height),\n",
    "    batch_size=batch_size,\n",
    "    class_mode='binary')\n",
    "\n",
    "test_loss, test_accuracy = model.evaluate(test_generator, verbose=1)\n",
    "print(f'Test Accuracy: {test_accuracy}')"
   ]
  },
  {
   "cell_type": "code",
   "execution_count": 4,
   "id": "c24ddecb-36ab-483d-8ff6-86438c231f49",
   "metadata": {},
   "outputs": [
    {
     "name": "stdout",
     "output_type": "stream",
     "text": [
      "Precision: 0.6666666666666666\n",
      "Recall: 0.6666666666666666\n",
      "F1-score: 0.6666666666666666\n"
     ]
    }
   ],
   "source": [
    "import numpy as np\n",
    "import sklearn.metrics\n",
    "\n",
    "# Assuming you have obtained predictions and true labels from your pneumonia prediction model\n",
    "# Replace pred_labels and true_labels with your actual prediction and true labels\n",
    "pred_labels = np.array([1, 1, 0, 1, 0, 0])  # Example predictions (1 for pneumonia, 0 for normal)\n",
    "true_labels = np.array([1, 1, 1, 0, 0, 0])  # Example true labels (1 for pneumonia, 0 for normal)\n",
    "\n",
    "# Calculate precision\n",
    "precision = sklearn.metrics.precision_score(true_labels, pred_labels)\n",
    "\n",
    "# Calculate recall\n",
    "recall = sklearn.metrics.recall_score(true_labels, pred_labels)\n",
    "\n",
    "# Calculate F1-score\n",
    "f1 = sklearn.metrics.f1_score(true_labels, pred_labels)\n",
    "\n",
    "# Print the results\n",
    "print(\"Precision:\", precision)\n",
    "print(\"Recall:\", recall)\n",
    "print(\"F1-score:\", f1)\n"
   ]
  },
  {
   "cell_type": "code",
   "execution_count": 5,
   "id": "10b90e5e-dfc6-4051-8e64-87f0280c610f",
   "metadata": {},
   "outputs": [
    {
     "name": "stdout",
     "output_type": "stream",
     "text": [
      "           Metric     Score\n",
      "0   Test Accuracy  0.600000\n",
      "1  Test Precision  0.589744\n",
      "2     Test Recall  0.489362\n",
      "3   Test F1-Score  0.534884\n"
     ]
    },
    {
     "data": {
      "image/png": "[encoded data removed]",
      "text/plain": [
       "<Figure size 800x600 with 1 Axes>"
      ]
     },
     "metadata": {},
     "output_type": "display_data"
    }
   ],
   "source": [
    "import numpy as np\n",
    "import pandas as pd\n",
    "import matplotlib.pyplot as plt\n",
    "from sklearn.metrics import accuracy_score, precision_score, recall_score, f1_score\n",
    "\n",
    "# Assuming you have obtained predictions and true labels for your test set\n",
    "# Replace test_pred_labels and test_true_labels with your actual test prediction and true labels\n",
    "test_pred_labels = np.random.randint(0, 2, size=(100,))\n",
    "test_true_labels = np.random.randint(0, 2, size=(100,))\n",
    "\n",
    "# Calculate evaluation metrics for the test set\n",
    "test_accuracy = accuracy_score(test_true_labels, test_pred_labels)\n",
    "test_precision = precision_score(test_true_labels, test_pred_labels)\n",
    "test_recall = recall_score(test_true_labels, test_pred_labels)\n",
    "test_f1 = f1_score(test_true_labels, test_pred_labels)\n",
    "\n",
    "# Create a DataFrame to store test evaluation metrics\n",
    "test_metrics_df = pd.DataFrame({\n",
    "    'Metric': ['Test Accuracy', 'Test Precision', 'Test Recall', 'Test F1-Score'],\n",
    "    'Score': [test_accuracy, test_precision, test_recall, test_f1]\n",
    "})\n",
    "\n",
    "# Print the test metrics table\n",
    "print(test_metrics_df)\n",
    "\n",
    "# Plot the test metrics as a bar chart\n",
    "plt.figure(figsize=(8, 6))\n",
    "plt.bar(test_metrics_df['Metric'], test_metrics_df['Score'], color=['blue', 'green', 'orange', 'red'])\n",
    "plt.title('Test Evaluation Metrics')\n",
    "plt.xlabel('Metric')\n",
    "plt.ylabel('Score')\n",
    "plt.ylim(0, 1)  # Set y-axis limits to [0, 1] for better visualization\n",
    "plt.show()\n"
   ]
  },
  {
   "cell_type": "code",
   "execution_count": 6,
   "id": "0785c1da-98de-4703-a431-02f7ca5ab7ea",
   "metadata": {},
   "outputs": [
    {
     "name": "stdout",
     "output_type": "stream",
     "text": [
      "Accuracy: 0.6666667\n"
     ]
    }
   ],
   "source": [
    "import tensorflow as tf\n",
    "\n",
    "# Assuming you have obtained predictions and true labels from your deep learning model\n",
    "# Replace pred_labels and true_labels with your actual prediction and true labels\n",
    "pred_labels = tf.constant([1, 1, 0, 1, 0, 0])  # Example predictions (1 for pneumonia, 0 for normal)\n",
    "true_labels = tf.constant([1, 1, 1, 0, 0, 0])  # Example true labels (1 for pneumonia, 0 for normal)\n",
    "\n",
    "# Calculate accuracy\n",
    "accuracy = tf.keras.metrics.Accuracy()\n",
    "accuracy.update_state(true_labels, pred_labels)\n",
    "accuracy_result = accuracy.result().numpy()\n",
    "\n",
    "# Print the result\n",
    "print(\"Accuracy:\", accuracy_result)\n"
   ]
  },
  {
   "cell_type": "code",
   "execution_count": 7,
   "id": "7f56cfdc-d5b5-4af5-a795-3845bb958042",
   "metadata": {},
   "outputs": [
    {
     "name": "stdout",
     "output_type": "stream",
     "text": [
      "Accuracy: 0.6666667\n"
     ]
    }
   ],
   "source": [
    "import tensorflow as tf\n",
    "\n",
    "# Assuming you have obtained predictions and true labels from your deep learning model\n",
    "# Replace pred_labels and true_labels with your actual prediction and true labels\n",
    "pred_labels = tf.constant([1, 1, 0, 1, 0, 0])  # Example predictions (1 for pneumonia, 0 for normal)\n",
    "true_labels = tf.constant([1, 1, 1, 0, 0, 0])  # Example true labels (1 for pneumonia, 0 for normal)\n",
    "\n",
    "# Calculate accuracy\n",
    "accuracy = tf.keras.metrics.Accuracy()\n",
    "accuracy.update_state(true_labels, pred_labels)\n",
    "accuracy_result = accuracy.result().numpy()\n",
    "\n",
    "# Print the result\n",
    "print(\"Accuracy:\", accuracy_result)\n"
   ]
  },
  {
   "cell_type": "code",
   "execution_count": 10,
   "id": "28bec086-b3c9-437d-992f-19491246d857",
   "metadata": {},
   "outputs": [
    {
     "data": {
      "image/png": "[encoded data removed]",
      "text/plain": [
       "<Figure size 800x600 with 1 Axes>"
      ]
     },
     "metadata": {},
     "output_type": "display_data"
    }
   ],
   "source": [
    "import numpy as np\n",
    "import matplotlib.pyplot as plt\n",
    "from sklearn.metrics import classification_report, accuracy_score\n",
    "\n",
    "# Assuming you have obtained predictions and true labels from your deep learning model\n",
    "# Replace y_true and y_pred_binary with your actual true labels and predictions\n",
    "y_true = np.array([1, 1, 0, 1, 0, 0])  # Example true labels (1 for pneumonia, 0 for normal)\n",
    "y_pred_binary = np.array([1, 1, 0, 1, 0, 0])  # Example binary predictions (1 for pneumonia, 0 for normal)\n",
    "\n",
    "# Generate classification report\n",
    "report = classification_report(y_true, y_pred_binary, output_dict=True)\n",
    "\n",
    "# Extract overall metrics\n",
    "precision = report['accuracy']\n",
    "recall = report['accuracy']\n",
    "f1_score = report['accuracy']\n",
    "accuracy = accuracy_score(y_true, y_pred_binary)\n",
    "\n",
    "# Plotting the metrics\n",
    "x = np.arange(4)\n",
    "width = 0.2\n",
    "fig, ax = plt.subplots(figsize=(8, 6))\n",
    "\n",
    "metrics = ['Precision', 'Recall', 'F1-score', 'Accuracy']\n",
    "metric_values = [precision, recall, f1_score, accuracy]\n",
    "\n",
    "bars = ax.bar(x, metric_values, width, color='skyblue')\n",
    "\n",
    "ax.set_xlabel('Metrics')\n",
    "ax.set_ylabel('Scores')\n",
    "ax.set_title('Overall Model Performance Metrics')\n",
    "ax.set_xticks(x)\n",
    "ax.set_xticklabels(metrics)\n",
    "\n",
    "# Add value labels on top of the bars\n",
    "def add_labels(bars):\n",
    "    for bar in bars:\n",
    "        height = bar.get_height()\n",
    "        ax.annotate('%.2f' % height,\n",
    "                    xy=(bar.get_x() + bar.get_width() / 2, height),\n",
    "                    xytext=(0, 3),\n",
    "                    textcoords='offset points',\n",
    "                    ha='center', va='bottom')\n",
    "\n",
    "add_labels(bars)\n",
    "\n",
    "plt.show()\n"
   ]
  },
  {
   "cell_type": "code",
   "execution_count": 11,
   "id": "2a44576c-9407-419c-bafe-71446c37fb4a",
   "metadata": {},
   "outputs": [
    {
     "name": "stdout",
     "output_type": "stream",
     "text": [
      "Found 624 images belonging to 2 classes.\n"
     ]
    },
    {
     "name": "stderr",
     "output_type": "stream",
     "text": [
      "C:\\Users\\Apkr\\anaconda3\\Lib\\site-packages\\keras\\src\\trainers\\data_adapters\\py_dataset_adapter.py:122: UserWarning: Your `PyDataset` class should call `super().__init__(**kwargs)` in its constructor. `**kwargs` can include `workers`, `use_multiprocessing`, `max_queue_size`. Do not pass these arguments to `fit()`, as they will be ignored.\n",
      "  self._warn_if_super_not_called()\n"
     ]
    },
    {
     "name": "stdout",
     "output_type": "stream",
     "text": [
      "\u001b[1m35/35\u001b[0m \u001b[32m━━━━━━━━━━━━━━━━━━━━\u001b[0m\u001b[37m\u001b[0m \u001b[1m16s\u001b[0m 431ms/step - accuracy: 0.2793 - loss: 1.0628\n",
      "Test Accuracy: 0.625\n",
      "\u001b[1m35/35\u001b[0m \u001b[32m━━━━━━━━━━━━━━━━━━━━\u001b[0m\u001b[37m\u001b[0m \u001b[1m16s\u001b[0m 449ms/step\n",
      "Classification Report:\n",
      "               precision    recall  f1-score   support\n",
      "\n",
      "           0       0.00      0.00      0.00       234\n",
      "           1       0.62      1.00      0.77       390\n",
      "\n",
      "    accuracy                           0.62       624\n",
      "   macro avg       0.31      0.50      0.38       624\n",
      "weighted avg       0.39      0.62      0.48       624\n",
      "\n"
     ]
    },
    {
     "name": "stderr",
     "output_type": "stream",
     "text": [
      "C:\\Users\\Apkr\\anaconda3\\Lib\\site-packages\\sklearn\\metrics\\_classification.py:1344: UndefinedMetricWarning: Precision and F-score are ill-defined and being set to 0.0 in labels with no predicted samples. Use `zero_division` parameter to control this behavior.\n",
      "  _warn_prf(average, modifier, msg_start, len(result))\n",
      "C:\\Users\\Apkr\\anaconda3\\Lib\\site-packages\\sklearn\\metrics\\_classification.py:1344: UndefinedMetricWarning: Precision and F-score are ill-defined and being set to 0.0 in labels with no predicted samples. Use `zero_division` parameter to control this behavior.\n",
      "  _warn_prf(average, modifier, msg_start, len(result))\n",
      "C:\\Users\\Apkr\\anaconda3\\Lib\\site-packages\\sklearn\\metrics\\_classification.py:1344: UndefinedMetricWarning: Precision and F-score are ill-defined and being set to 0.0 in labels with no predicted samples. Use `zero_division` parameter to control this behavior.\n",
      "  _warn_prf(average, modifier, msg_start, len(result))\n"
     ]
    }
   ],
   "source": [
    "# Assuming you have separate test data (test_data_dir) and corresponding true labels (test_generator.classes)\n",
    "# Replace test_data_dir with the directory containing your test data\n",
    "\n",
    "# Evaluate the model on the test set\n",
    "test_data_dir='chest_xray/test'\n",
    "test_gen = test_datagen.flow_from_directory(\n",
    "    test_data_dir,\n",
    "    target_size=(img_width, img_height),\n",
    "    batch_size=batch_size,\n",
    "    class_mode='binary',\n",
    "    shuffle=False)  # Set shuffle to False to ensure predictions are aligned with true labels\n",
    "\n",
    "test_loss, test_accuracy = model.evaluate(test_gen)\n",
    "print(\"Test Accuracy:\", test_accuracy)\n",
    "\n",
    "# Get predictions for the test set\n",
    "test_gen.reset()  # Reset the generator to start from the beginning\n",
    "y_pred = model.predict(test_gen)\n",
    "y_pred_binary = (y_pred > 0.5).astype(int)  # Convert probabilities to binary predictions\n",
    "\n",
    "# Get true labels\n",
    "y_true = test_gen.classes\n",
    "\n",
    "# Calculate classification report\n",
    "report = classification_report(y_true, y_pred_binary)\n",
    "print(\"Classification Report:\\n\", report)\n"
   ]
  },
  {
   "cell_type": "code",
   "execution_count": null,
   "id": "babd2af3-2b3c-4eb8-b75e-951a1a787681",
   "metadata": {},
   "outputs": [],
   "source": []
  }
 ],
 "metadata": {
  "kernelspec": {
   "display_name": "Python 3 (ipykernel)",
   "language": "python",
   "name": "python3"
  },
  "language_info": {
   "codemirror_mode": {
    "name": "ipython",
    "version": 3
   },
   "file_extension": ".py",
   "mimetype": "text/x-python",
   "name": "python",
   "nbconvert_exporter": "python",
   "pygments_lexer": "ipython3",
   "version": "3.11.5"
  }
 },
 "nbformat": 4,
 "nbformat_minor": 5
}
